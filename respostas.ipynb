{
 "cells": [
  {
   "cell_type": "markdown",
   "metadata": {},
   "source": [
    "# Resposta do Processo Seletivo de Estágio da Target Sitemas\n",
    "## by Lucas Luan Belarmino Barbosa"
   ]
  },
  {
   "cell_type": "markdown",
   "metadata": {},
   "source": [
    "### 1) Dado a sequência de Fibonacci, onde se inicia por 0 e 1 e o próximo valor sempre será a soma dos 2 valores anteriores (exemplo: 0, 1, 1, 2, 3, 5, 8, 13, 21, 34...), escreva um programa na linguagem que desejar onde, informado um número, ele calcule a sequência de Fibonacci e retorne uma mensagem avisando se o número informado pertence ou não a sequência.\n",
    "\n",
    "IMPORTANTE: Esse número pode ser informado através de qualquer entrada de sua preferência ou pode ser previamente definido no código;"
   ]
  },
  {
   "cell_type": "code",
   "execution_count": 8,
   "metadata": {},
   "outputs": [
    {
     "name": "stdout",
     "output_type": "stream",
     "text": [
      "É um número de Fibonacci!\n",
      "É um número de Fibonacci!\n",
      "É um número de Fibonacci!\n",
      "É um número de Fibonacci!\n",
      "Não é um número de Fibonacci!\n",
      "É um número de Fibonacci!\n",
      "Não é um número de Fibonacci!\n",
      "Não é um número de Fibonacci!\n",
      "É um número de Fibonacci!\n",
      "Não é um número de Fibonacci!\n",
      "Não é um número de Fibonacci!\n"
     ]
    }
   ],
   "source": [
    "def isFibonnaci(n):\n",
    "    if n == 0:\n",
    "        print(\"É um número de Fibonacci!\")\n",
    "        return\n",
    "\n",
    "    ultimo = 1\n",
    "    penultimo = 0\n",
    "    aux = 0\n",
    "    while ultimo < n:\n",
    "        aux = ultimo\n",
    "        ultimo = ultimo + penultimo\n",
    "        penultimo = aux\n",
    "    \n",
    "    if ultimo == n:\n",
    "        print(\"É um número de Fibonacci!\")\n",
    "    else:\n",
    "        print(\"Não é um número de Fibonacci!\")\n",
    "    return\n",
    "    \n",
    "num = [0, 1, 2, 3, 4, 5, 6, 7, 8, 9, 10]\n",
    "for i in num:\n",
    "    isFibonnaci(i)\n"
   ]
  },
  {
   "cell_type": "markdown",
   "metadata": {},
   "source": [
    "### 2) Escreva um programa que verifique, em uma string, a existência da letra ‘a’, seja maiúscula ou minúscula, além de informar a quantidade de vezes em que ela ocorre.\n",
    "\n",
    "IMPORTANTE: Essa string pode ser informada através de qualquer entrada de sua preferência ou pode ser previamente definida no código;"
   ]
  },
  {
   "cell_type": "code",
   "execution_count": 7,
   "metadata": {},
   "outputs": [
    {
     "name": "stdout",
     "output_type": "stream",
     "text": [
      "Na palavra \"Achalotes\" a letra 'a' (ou 'A') aparece: 2 vezes\n"
     ]
    }
   ],
   "source": [
    "def searchA(string):\n",
    "    count = 0\n",
    "    for let, i in zip(string, range(len(string))):\n",
    "        if let ==  'a' or let == 'A':\n",
    "            count += 1\n",
    "    return count\n",
    "\n",
    "palavra = \"Achalotes\"\n",
    "print(f\"Na palavra \\\"{palavra}\\\" a letra \\'a\\' (ou \\'A\\') aparece: {searchA(palavra)} vezes\")"
   ]
  },
  {
   "cell_type": "markdown",
   "metadata": {},
   "source": [
    "### 3) Observe o trecho de código abaixo:\n",
    "int INDICE = 12, SOMA = 0, K = 1; \\\n",
    "enquanto K < INDICE faça { \\\n",
    "K = K + 1; SOMA = SOMA + K; \\\n",
    "} \\\n",
    "imprimir(SOMA);\n",
    "\n",
    "Ao final do processamento, qual será o valor da variável SOMA?\n",
    "\n",
    "**Resposta:** \n",
    "\n",
    "$$\\frac{(a_1-a_n)\\cdot n}{2} = \\frac{(2+12)\\cdot 11}{2} = 77$$\n",
    "\n",
    "a_1 = K + 1, já que no inicio do while K é somado antes de incrementar SOMA. Com issso na primeira soma K == 2. \\\n",
    "a_n = 12, já que o looping age até K == INDICE == 12. \\\n",
    "n = INDICE - K (numero de vezes que o looping será executado). "
   ]
  },
  {
   "cell_type": "markdown",
   "metadata": {},
   "source": [
    "### 4) Descubra a lógica e complete o próximo elemento: \n",
    "a) 1, 3, 5, 7, <u>9</u> \\\n",
    "b) 2, 4, 8, 16, 32, 64, <u>128</u>  \\\n",
    "c) 0, 1, 4, 9, 16, 25, 36, <u>49</u>  \\\n",
    "d) 4, 16, 36, 64, <u>100</u>  \\\n",
    "e) 1, 1, 2, 3, 5, 8, <u>13</u>  \\\n",
    "f) 2, 10, 12, 16, 17, 18, 19, <u>20</u>   \n"
   ]
  },
  {
   "cell_type": "markdown",
   "metadata": {},
   "source": [
    "### 5) Você está em uma sala com três interruptores, cada um conectado a uma lâmpada em salas diferentes. Você não pode ver as lâmpadas da sala em que está, mas pode ligar e desligar os interruptores quantas vezes quiser. Seu objetivo é descobrir qual interruptor controla qual lâmpada. Como você faria para descobrir, usando apenas duas idas até uma das salas das lâmpadas, qual interruptor controla cada lâmpada?  "
   ]
  },
  {
   "cell_type": "markdown",
   "metadata": {},
   "source": [
    "**Resposta:**\n",
    "1. Liga-se dois interruptores;\n",
    "2. Vai até a sala das lampadas e vê quais acenderam (idas restantes: 1);\n",
    "3. Volta à sala dos interruptores;\n",
    "4. Desliga um dos interruptores do item 1 e liga o restante;\n",
    "5. Volta a sala de lampadas (idas restantes: 0);\n",
    "\n",
    "Ao final desse processo a lampada que se manteve acesa é do interruptor que não foi desligado no item 4. As outras lampadas são dos interruptores que tiveram seus estados invertidos: \n",
    "- a lampada apagada é do que foi ligado no item 1 e desligado no item 4;\n",
    "- a outra lampada acesa, que estava desligada na primeira ida (item 2), é do interruptor que foi aceso no item 4; "
   ]
  }
 ],
 "metadata": {
  "kernelspec": {
   "display_name": "Python 3",
   "language": "python",
   "name": "python3"
  },
  "language_info": {
   "codemirror_mode": {
    "name": "ipython",
    "version": 3
   },
   "file_extension": ".py",
   "mimetype": "text/x-python",
   "name": "python",
   "nbconvert_exporter": "python",
   "pygments_lexer": "ipython3",
   "version": "3.12.5"
  }
 },
 "nbformat": 4,
 "nbformat_minor": 2
}
